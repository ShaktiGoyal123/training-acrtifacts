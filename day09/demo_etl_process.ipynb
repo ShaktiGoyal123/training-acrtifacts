{
 "cells": [
  {
   "cell_type": "code",
   "execution_count": null,
   "metadata": {},
   "outputs": [],
   "source": [
    "pip install pyspark"
   ]
  },
  {
   "cell_type": "code",
   "execution_count": 1,
   "metadata": {},
   "outputs": [
    {
     "name": "stdout",
     "output_type": "stream",
     "text": [
      "root\n",
      " |-- name: string (nullable = true)\n",
      " |-- company: string (nullable = true)\n",
      " |-- designation: string (nullable = true)\n",
      " |-- country: string (nullable = true)\n",
      "\n"
     ]
    }
   ],
   "source": [
    "from pyspark.sql import SparkSession\n",
    "from pyspark.conf import SparkConf\n",
    "import sys\n",
    "\n",
    "try:\n",
    "\n",
    "    # Create a SparkConf object\n",
    "    conf = SparkConf() \\\n",
    "          .setAppName(\"dellsparkdemoapp\") \\\n",
    "          .setMaster(\"local[*]\")\n",
    "                \n",
    "\n",
    "    # Create a SparkSession object\n",
    "    spark = SparkSession.builder.config(conf=conf) \\\n",
    "            .set(\"spark.sql.files.maxPartitionBytes\", \"1KB\")\\\n",
    "            .getOrCreate()\n",
    "\n",
    "    # Create DataFrame\n",
    "    data = [(\"Paul\",\"Amazon\",\"Engg\",\"USA\"),\n",
    "            (\"Michael Dell\",\"Dell\",\"CEO\",\"USA\"),\n",
    "            (\"Justin\",\"Greg\",\"CTO\",\"Germany\"),\n",
    "            (\"Maria\",\"Netflix\",\"Finance\",\"Ukraine\"),\n",
    "            (\"Maria\",\"Netflix\",\"Finance\",\"Ukraine\"),\n",
    "            (\"Michael Dell\",\"Dell\",\"CEO\",\"USA\"),\n",
    "            (\"Maria\",\"\",\"Finance\",\"Ukraine\"),\n",
    "            (\"Jeff Bezos\",\"Amazon\",\"CEO\",\"USA\"),\n",
    "            (\"Justin\",\"Starburst\",\"CTO\",None),\n",
    "            (\"Elon\",\"Tesla\",\"CEO\",\"Germany\"),\n",
    "            (\"Charles brian\",\"Amazon\",\"CTO\",\"USA\"),\n",
    "            (\"Jeff brian\",\"Dell\",\"CTO\",\"USA\"),\n",
    "            (\"Tom Greg\",\"Dell\",\"SVP\",\"USA\"),\n",
    "        (None, None, None, None)\n",
    "        ]\n",
    "\n",
    "    columns = [\"name\", \"company\", \"designation\",\"country\"]\n",
    "    emp_df = spark.createDataFrame(data = data, schema = columns)\n",
    "\n",
    "    if spark is None:\n",
    "        print(\"Spark session not available\")\n",
    "        sys.exit(0)\n",
    "\n",
    "except Exception as ex:\n",
    "    print(ex)\n",
    "\n",
    "emp_df.printSchema()\n"
   ]
  },
  {
   "cell_type": "code",
   "execution_count": 2,
   "metadata": {},
   "outputs": [
    {
     "name": "stdout",
     "output_type": "stream",
     "text": [
      "+-------------+---------+-----------+-------+\n",
      "|name         |company  |designation|country|\n",
      "+-------------+---------+-----------+-------+\n",
      "|Paul         |Amazon   |Engg       |USA    |\n",
      "|Michael Dell |Dell     |CEO        |USA    |\n",
      "|Justin       |Greg     |CTO        |Germany|\n",
      "|Maria        |Netflix  |Finance    |Ukraine|\n",
      "|Maria        |Netflix  |Finance    |Ukraine|\n",
      "|Michael Dell |Dell     |CEO        |USA    |\n",
      "|Maria        |         |Finance    |Ukraine|\n",
      "|Jeff Bezos   |Amazon   |CEO        |USA    |\n",
      "|Justin       |Starburst|CTO        |null   |\n",
      "|Elon         |Tesla    |CEO        |Germany|\n",
      "|Charles brian|Amazon   |CTO        |USA    |\n",
      "|Jeff brian   |Dell     |CTO        |USA    |\n",
      "|Tom Greg     |Dell     |SVP        |USA    |\n",
      "|null         |null     |null       |null   |\n",
      "+-------------+---------+-----------+-------+\n",
      "\n"
     ]
    }
   ],
   "source": [
    "if not emp_df.isEmpty == False:\n",
    "    emp_df.show(truncate=False)"
   ]
  },
  {
   "cell_type": "code",
   "execution_count": 3,
   "metadata": {},
   "outputs": [
    {
     "name": "stdout",
     "output_type": "stream",
     "text": [
      "4\n"
     ]
    }
   ],
   "source": [
    "#get the number of partitions in the RDD\n",
    "print(emp_df.rdd.getNumPartitions())"
   ]
  },
  {
   "cell_type": "code",
   "execution_count": 4,
   "metadata": {},
   "outputs": [
    {
     "name": "stdout",
     "output_type": "stream",
     "text": [
      "+-------------+---------+-----------+-------+--------------------+\n",
      "|         name|  company|designation|country|               email|\n",
      "+-------------+---------+-----------+-------+--------------------+\n",
      "|         Paul|   Amazon|       Engg|    USA|dummy@dummyemail.com|\n",
      "| Michael Dell|     Dell|        CEO|    USA|dummy@dummyemail.com|\n",
      "|       Justin|     Greg|        CTO|Germany|dummy@dummyemail.com|\n",
      "|        Maria|  Netflix|    Finance|Ukraine|dummy@dummyemail.com|\n",
      "|        Maria|  Netflix|    Finance|Ukraine|dummy@dummyemail.com|\n",
      "| Michael Dell|     Dell|        CEO|    USA|dummy@dummyemail.com|\n",
      "|        Maria|         |    Finance|Ukraine|dummy@dummyemail.com|\n",
      "|   Jeff Bezos|   Amazon|        CEO|    USA|dummy@dummyemail.com|\n",
      "|       Justin|Starburst|        CTO|   null|dummy@dummyemail.com|\n",
      "|         Elon|    Tesla|        CEO|Germany|dummy@dummyemail.com|\n",
      "|Charles brian|   Amazon|        CTO|    USA|dummy@dummyemail.com|\n",
      "|   Jeff brian|     Dell|        CTO|    USA|dummy@dummyemail.com|\n",
      "|     Tom Greg|     Dell|        SVP|    USA|dummy@dummyemail.com|\n",
      "|         null|     null|       null|   null|dummy@dummyemail.com|\n",
      "+-------------+---------+-----------+-------+--------------------+\n",
      "\n"
     ]
    }
   ],
   "source": [
    "#Add a new column to the Spark dataframe\n",
    "from pyspark.sql.functions import col,lit\n",
    "emp_df = emp_df.withColumn('email', lit('dummy@dummyemail.com'))\n",
    "emp_df.show()"
   ]
  },
  {
   "cell_type": "code",
   "execution_count": 5,
   "metadata": {},
   "outputs": [
    {
     "name": "stdout",
     "output_type": "stream",
     "text": [
      "+-------------+---------+--------------------+\n",
      "|         name|  company|               email|\n",
      "+-------------+---------+--------------------+\n",
      "|         Paul|   Amazon|dummy@dummyemail.com|\n",
      "| Michael Dell|     Dell|dummy@dummyemail.com|\n",
      "|       Justin|     Greg|dummy@dummyemail.com|\n",
      "|        Maria|  Netflix|dummy@dummyemail.com|\n",
      "|        Maria|  Netflix|dummy@dummyemail.com|\n",
      "| Michael Dell|     Dell|dummy@dummyemail.com|\n",
      "|        Maria|         |dummy@dummyemail.com|\n",
      "|   Jeff Bezos|   Amazon|dummy@dummyemail.com|\n",
      "|       Justin|Starburst|dummy@dummyemail.com|\n",
      "|         Elon|    Tesla|dummy@dummyemail.com|\n",
      "|Charles brian|   Amazon|dummy@dummyemail.com|\n",
      "|   Jeff brian|     Dell|dummy@dummyemail.com|\n",
      "|     Tom Greg|     Dell|dummy@dummyemail.com|\n",
      "|         null|     null|dummy@dummyemail.com|\n",
      "+-------------+---------+--------------------+\n",
      "\n"
     ]
    }
   ],
   "source": [
    "#Select only columns which are required \n",
    "emp_df.select(['name','company','email']).show()"
   ]
  },
  {
   "cell_type": "code",
   "execution_count": 6,
   "metadata": {},
   "outputs": [],
   "source": [
    "#drop a column from the dataframe\n",
    "emp_df= emp_df.drop('email')"
   ]
  },
  {
   "cell_type": "code",
   "execution_count": 7,
   "metadata": {},
   "outputs": [
    {
     "name": "stdout",
     "output_type": "stream",
     "text": [
      "+---------+-----------+\n",
      "|  company|count(name)|\n",
      "+---------+-----------+\n",
      "|     Greg|          1|\n",
      "|     Dell|          4|\n",
      "|   Amazon|          3|\n",
      "|  Netflix|          2|\n",
      "|         |          1|\n",
      "|Starburst|          1|\n",
      "|     null|          0|\n",
      "|    Tesla|          1|\n",
      "+---------+-----------+\n",
      "\n"
     ]
    }
   ],
   "source": [
    "#Group by and aggreate \n",
    "emp_df.groupby('company').agg({'name': 'count'}).show()"
   ]
  },
  {
   "cell_type": "code",
   "execution_count": 8,
   "metadata": {},
   "outputs": [
    {
     "data": {
      "image/png": "[encoded data removed]",
      "text/plain": [
       "<Figure size 1000x1200 with 1 Axes>"
      ]
     },
     "metadata": {},
     "output_type": "display_data"
    }
   ],
   "source": [
    "#Count total number of null values - EDA\n",
    "import matplotlib.pyplot as plt\n",
    "import pyspark.sql.functions as pfunc\n",
    "\n",
    "null_value_list = list()\n",
    "\n",
    "for col_ in emp_df.columns:\n",
    "    dfemp= emp_df.where(pfunc.col(col_).isNull())\n",
    "    null_value_list.append(dfemp.count())     \n",
    "\n",
    "#print(null_value_list)                \n",
    "\n",
    "plt.rcParams[\"figure.figsize\"] = (10,12)\n",
    "\n",
    "columns = [col_ for col_ in emp_df.columns]\n",
    "myexplode = [0.2, 0, 0, 0]\n",
    "\n",
    "plt.pie(null_value_list, labels = columns, explode = myexplode, shadow = True, autopct='%1.0f%%')\n",
    "plt.title('Total nulls in each column')\n",
    "plt.show()"
   ]
  },
  {
   "cell_type": "code",
   "execution_count": 9,
   "metadata": {},
   "outputs": [
    {
     "name": "stdout",
     "output_type": "stream",
     "text": [
      "+----------+\n",
      "|sum(count)|\n",
      "+----------+\n",
      "|         4|\n",
      "+----------+\n",
      "\n"
     ]
    }
   ],
   "source": [
    "#find how many duplicate row present\n",
    "import pyspark.sql.functions as funcs\n",
    "emp_df.groupBy(emp_df.columns).count().where(funcs.col('count') > 1).select(funcs.sum('count')).show()"
   ]
  },
  {
   "cell_type": "code",
   "execution_count": 10,
   "metadata": {},
   "outputs": [],
   "source": [
    "#outlier detection - Z-Score\n",
    "from pyspark.sql.functions import *\n",
    "column_subset = emp_df.columns\n",
    "\n",
    "emp_outlier_df=None\n",
    "\n",
    "for col in column_subset:\n",
    "    if emp_df.select(col).dtypes[0][1]==\"string\":\n",
    "        pass\n",
    "    else:\n",
    "        mean = emp_df.select(mean(col)).collect()[0][0]\n",
    "        stddev = emp_df.select(stddev(col)).collect()[0][0]\n",
    "        upper_limit = mean + (3*stddev)\n",
    "        lower_limit = mean - (3*stddev)\n",
    "        emp_outlier_df = emp_df.filter((emp_df[col]<lower_limit) | (emp_df[col]>upper_limit))\n",
    "\n",
    "if emp_outlier_df is not None:\n",
    "    emp_outlier_df.show()"
   ]
  },
  {
   "cell_type": "code",
   "execution_count": null,
   "metadata": {},
   "outputs": [],
   "source": [
    "#Detecting outlier using z-score technique\n",
    "#Z score = (x -mean) / std. deviation\n",
    "from pyspark.sql.functions import *\n",
    "column_subset = emp_df.columns\n",
    "for col in column_subset:\n",
    "    if emp_df.select(col).dtypes[0][1]==\"string\":\n",
    "        pass\n",
    "    else:\n",
    "        mean = emp_df.select(mean(col)).collect()[0][0]\n",
    "        stddev = emp_df.select(stddev(col)).collect()[0][0]\n",
    "        upper_limit = mean + (3*stddev)\n",
    "        lower_limit = mean - (3*stddev)\n",
    "        emp_outlier_removed_df = emp_df.filter((emp_df[col]>lower_limit) & (emp_df[col]<upper_limit))\n",
    "emp_outlier_removed_df.show()"
   ]
  },
  {
   "cell_type": "code",
   "execution_count": null,
   "metadata": {},
   "outputs": [],
   "source": [
    "#drop those records null values \n",
    "dfnull = emp_df.dropna()\n",
    "dfnull.show()"
   ]
  },
  {
   "cell_type": "code",
   "execution_count": null,
   "metadata": {},
   "outputs": [],
   "source": [
    "#find missing value \n",
    "from pyspark.sql.functions import *\n",
    "print(emp_df.select([count(when(isnan(c) | col(c).isNull(), c)).alias(c) for c in emp_df.columns]).show())"
   ]
  },
  {
   "cell_type": "code",
   "execution_count": null,
   "metadata": {},
   "outputs": [],
   "source": [
    "# Applying distinct() to remove duplicate rows\n",
    "distinctDF = emp_df.distinct()\n",
    "print(\"Distinct count: \"+str(distinctDF.count()))\n",
    "distinctDF.show(truncate=False)"
   ]
  },
  {
   "cell_type": "code",
   "execution_count": null,
   "metadata": {},
   "outputs": [],
   "source": [
    "# Applying dropDuplicates() to remove duplicates\n",
    "df2 = emp_df.dropDuplicates()\n",
    "print(\"Distinct count: \"+str(df2.count()))\n",
    "df2.show(truncate=False)"
   ]
  },
  {
   "cell_type": "code",
   "execution_count": null,
   "metadata": {},
   "outputs": [],
   "source": [
    "# Remove duplicates on selected columns using dropDuplicates()\n",
    "dropDisDF = df2.dropDuplicates([\"country\",\"company\"])\n",
    "print(\"Distinct count of company & country : \"+str(dropDisDF.count()))\n",
    "dropDisDF.show(truncate=False)"
   ]
  },
  {
   "cell_type": "code",
   "execution_count": null,
   "metadata": {},
   "outputs": [],
   "source": [
    "#group by country\n",
    "dropDisDF.groupBy(\"country\").agg({\"name\": \"count\"}).sort(\"country\").show()"
   ]
  },
  {
   "cell_type": "code",
   "execution_count": null,
   "metadata": {},
   "outputs": [],
   "source": [
    "#Replace empty string with None on selected columns\n",
    "replaceCols=[\"name\",\"country\"]\n",
    "dropDisDF=dropDisDF.select([when(col(c)==\"\",None).otherwise(col(c)).alias(c) for c in replaceCols])\n",
    "dropDisDF.show()"
   ]
  },
  {
   "cell_type": "code",
   "execution_count": null,
   "metadata": {},
   "outputs": [],
   "source": [
    "#join dataframes\n",
    "#dropDisDF.join(companysharedf, ['name', 'sharehold']).select(dropDisDFdf.name, companysharedf.share).show()"
   ]
  },
  {
   "cell_type": "code",
   "execution_count": null,
   "metadata": {},
   "outputs": [],
   "source": [
    "spark.stop()"
   ]
  }
 ],
 "metadata": {
  "kernelspec": {
   "display_name": "base",
   "language": "python",
   "name": "python3"
  },
  "language_info": {
   "codemirror_mode": {
    "name": "ipython",
    "version": 3
   },
   "file_extension": ".py",
   "mimetype": "text/x-python",
   "name": "python",
   "nbconvert_exporter": "python",
   "pygments_lexer": "ipython3",
   "version": "3.11.7"
  }
 },
 "nbformat": 4,
 "nbformat_minor": 2
}
