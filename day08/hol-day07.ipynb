{
 "cells": [
  {
   "cell_type": "code",
   "execution_count": null,
   "metadata": {},
   "outputs": [],
   "source": [
    "pip install pystarburst"
   ]
  },
  {
   "cell_type": "code",
   "execution_count": null,
   "metadata": {},
   "outputs": [],
   "source": [
    "pip install trino"
   ]
  },
  {
   "cell_type": "code",
   "execution_count": null,
   "metadata": {},
   "outputs": [],
   "source": [
    "import trino\n",
    "from pystarburst import Session\n",
    "\n",
    "import urllib3\n",
    "urllib3.disable_warnings()\n",
    "\n",
    "db_parameters = {\n",
    "    \"host\": \"shaktigoyal-data-eng-s3b-demo-virginia.trino.galaxy.starburst.io\",\n",
    "    \"port\": 443,\n",
    "    \"http_scheme\": \"https\",\n",
    "    \"verify\": False,\n",
    "    # Setup authentication through login or password or any other supported authentication methods\n",
    "    # See docs: https://github.com/trinodb/trino-python-client#authentication-mechanisms\n",
    "    \"auth\": trino.auth.BasicAuthentication(\"toshaktigoyal@gmail.com/accountadmin\", \"HiShakti@1234\")\n",
    "}\n",
    "\n",
    "try:\n",
    "     session = Session.builder.configs(db_parameters).create()\n",
    "     #dfproduct= session.table('s3bucket30may.discovered_schema.\"supply-chain\"')\n",
    "     dfproduct= session.sql('SELECT * FROM s3bucket30may.discovered_schema.\"supply-chain\"')\n",
    "     \n",
    "     dfproduct.show()\n",
    "  \n",
    "     print('cluster got connected')\n",
    "#session.sql(\"SELECT * FROM system.runtime.nodes\").collect()\n",
    "except Exception as ex:\n",
    "     print('Error occoued', ex)"
   ]
  },
  {
   "cell_type": "code",
   "execution_count": 56,
   "metadata": {},
   "outputs": [
    {
     "name": "stdout",
     "output_type": "stream",
     "text": [
      "-----------------------------\n",
      "|\"supplier_name\"  |\"count\"  |\n",
      "-----------------------------\n",
      "|Supplier 3       |15       |\n",
      "|Supplier 4       |18       |\n",
      "|Supplier 2       |22       |\n",
      "|Supplier 5       |18       |\n",
      "|Supplier 1       |27       |\n",
      "-----------------------------\n",
      "\n"
     ]
    }
   ],
   "source": [
    "dfproduct.group_by('supplier_name').count().show()"
   ]
  },
  {
   "cell_type": "code",
   "execution_count": 57,
   "metadata": {},
   "outputs": [
    {
     "name": "stdout",
     "output_type": "stream",
     "text": [
      "-------------------------------------\n",
      "|\"product_type\"  |\"no_of_products\"  |\n",
      "-------------------------------------\n",
      "|cosmetics       |26                |\n",
      "|haircare        |34                |\n",
      "|skincare        |40                |\n",
      "-------------------------------------\n",
      "\n"
     ]
    }
   ],
   "source": [
    "\n",
    "dfproduct1= dfproduct.rename(\"product type\",\"product_type\")\n",
    "dfproduct2= dfproduct1.groupBy('product_type').count().rename(\"count\",\"No_Of_Products\").show()\n"
   ]
  },
  {
   "cell_type": "code",
   "execution_count": null,
   "metadata": {},
   "outputs": [],
   "source": [
    "session.sql('create schema if not exists s3bucket30may.analytical_schema').collect()"
   ]
  },
  {
   "cell_type": "code",
   "execution_count": 65,
   "metadata": {},
   "outputs": [
    {
     "data": {
      "text/plain": [
       "[]"
      ]
     },
     "execution_count": 65,
     "metadata": {},
     "output_type": "execute_result"
    }
   ],
   "source": [
    "session.sql('drop table if exists s3bucket30may.analytical_schema.prdsupplier').collect()"
   ]
  },
  {
   "cell_type": "code",
   "execution_count": 2,
   "metadata": {},
   "outputs": [
    {
     "ename": "NameError",
     "evalue": "name 'dfproduct2' is not defined",
     "output_type": "error",
     "traceback": [
      "\u001b[0;31m---------------------------------------------------------------------------\u001b[0m",
      "\u001b[0;31mNameError\u001b[0m                                 Traceback (most recent call last)",
      "Cell \u001b[0;32mIn[2], line 1\u001b[0m\n\u001b[0;32m----> 1\u001b[0m \u001b[43mdfproduct2\u001b[49m\u001b[38;5;241m.\u001b[39mwrite\u001b[38;5;241m.\u001b[39msave_as_table(\u001b[38;5;124m\"\u001b[39m\u001b[38;5;124ms3bucket30may.analytical_schema.prdsupplier\u001b[39m\u001b[38;5;124m\"\u001b[39m)\u001b[38;5;241m.\u001b[39mcollect()\n",
      "\u001b[0;31mNameError\u001b[0m: name 'dfproduct2' is not defined"
     ]
    }
   ],
   "source": [
    "dfproduct2.write.save_as_table(\"s3bucket30may.analytical_schema.prdsupplier\")"
   ]
  }
 ],
 "metadata": {
  "kernelspec": {
   "display_name": "Python 3",
   "language": "python",
   "name": "python3"
  },
  "language_info": {
   "codemirror_mode": {
    "name": "ipython",
    "version": 3
   },
   "file_extension": ".py",
   "mimetype": "text/x-python",
   "name": "python",
   "nbconvert_exporter": "python",
   "pygments_lexer": "ipython3",
   "version": "3.12.2"
  }
 },
 "nbformat": 4,
 "nbformat_minor": 2
}
