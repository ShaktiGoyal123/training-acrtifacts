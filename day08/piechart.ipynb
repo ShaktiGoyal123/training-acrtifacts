{
 "cells": [
  {
   "cell_type": "code",
   "execution_count": null,
   "metadata": {},
   "outputs": [],
   "source": [
    "pip install pystarburst"
   ]
  },
  {
   "cell_type": "code",
   "execution_count": null,
   "metadata": {},
   "outputs": [],
   "source": [
    "import trino\n",
    "from pystarburst import Session\n",
    "import urllib3\n",
    "\n",
    "urllib3.disable_warnings()\n",
    "\n",
    "db_parameters = {\n",
    "    \"host\": \"parvathigokavarapu-s3trngcluster.trino.galaxy.starburst.io\",\n",
    "    \"port\": 443,\n",
    "    \"http_scheme\": \"https\",\n",
    "    \"verify\":False, #to skip the SSL verification\n",
    "    # Setup authentication through login or password or any other supported authentication methods\n",
    "    # See docs: https://github.com/trinodb/trino-python-client#authentication-mechanisms\n",
    "    \"auth\": trino.auth.BasicAuthentication(\"parvathigokavarapu89@gmail.com/accountadmin\", \"\")\n",
    "}\n",
    "try:\n",
    "    session = Session.builder.configs(db_parameters).create()\n",
    "    session.sql(\"select 1 as b\").collect()\n",
    "    print('cluster got connected')\n",
    "    dfprod = session.sql(\"select *from s3datalakecatalog.discovered_schema.dell\")\n",
    "    dfprod.show()\n",
    "except Exception as e:\n",
    "    print(e)"
   ]
  },
  {
   "cell_type": "code",
   "execution_count": null,
   "metadata": {},
   "outputs": [],
   "source": [
    "dfprod2=dfprod.rename(\"product type\", \"product_type\")"
   ]
  },
  {
   "attachments": {},
   "cell_type": "markdown",
   "metadata": {},
   "source": [
    "### groupby products"
   ]
  },
  {
   "cell_type": "code",
   "execution_count": null,
   "metadata": {},
   "outputs": [],
   "source": []
  },
  {
   "cell_type": "code",
   "execution_count": 62,
   "metadata": {},
   "outputs": [],
   "source": [
    "\n",
    "dfprod3=dfprod2.group_by('product_type').count()\\\n",
    "    .rename('count', 'No_of_products')"
   ]
  },
  {
   "cell_type": "code",
   "execution_count": null,
   "metadata": {},
   "outputs": [],
   "source": [
    "session.sql(\"create schema if not exists s3datalakecatalog.s3dataprdschema\").collect()"
   ]
  },
  {
   "cell_type": "code",
   "execution_count": null,
   "metadata": {},
   "outputs": [],
   "source": [
    "session.sql(\"drop table if exists s3datalakecatalog.s3dataprdschema.prdsupplier\").collect()"
   ]
  },
  {
   "cell_type": "code",
   "execution_count": null,
   "metadata": {},
   "outputs": [],
   "source": [
    "\n",
    "dfprod3.write.save_as_table(\"s3datalakecatalog.s3dataprdschema.prdsupplier\")"
   ]
  },
  {
   "cell_type": "code",
   "execution_count": null,
   "metadata": {},
   "outputs": [],
   "source": [
    "session.sql(\"select * from s3datalakecatalog.s3dataprdschema.prdsupplier\").show()"
   ]
  },
  {
   "cell_type": "code",
   "execution_count": 65,
   "metadata": {},
   "outputs": [
    {
     "name": "stdout",
     "output_type": "stream",
     "text": [
      "{\"type\": \"StructType\", \"fields\": [{\"column_identifier\": {\"normalized_name\": \"\\\"product_type\\\"\"}, \"datatype\": {\"size\": null, \"type\": \"StringType\"}, \"nullable\": true}, {\"column_identifier\": {\"normalized_name\": \"\\\"no_of_products\\\"\"}, \"datatype\": {\"type\": \"LongType\"}, \"nullable\": true}]}\n"
     ]
    }
   ],
   "source": [
    "print(dfprod3.schema.json())"
   ]
  },
  {
   "cell_type": "code",
   "execution_count": null,
   "metadata": {},
   "outputs": [],
   "source": [
    "def conver_sb_to_pd(dfsp):\n",
    "    return pd.DataFrame(dfsp.collect(), columns=dfsp.columns)\n",
    "    "
   ]
  },
  {
   "cell_type": "code",
   "execution_count": null,
   "metadata": {},
   "outputs": [],
   "source": [
    "pip install matplotlib"
   ]
  },
  {
   "cell_type": "code",
   "execution_count": null,
   "metadata": {},
   "outputs": [],
   "source": [
    "import matplotlib.pyplot as plt\n",
    "import pandas as pd\n",
    "dffinal=conver_sb_to_pd(dfprod3)\n",
    "dffinal.plot(kind='pie', figsize=(12,10),y='no_of_products',labels=dffinal['product_type'],legend=False)\n",
    "plt.show()"
   ]
  },
  {
   "cell_type": "code",
   "execution_count": null,
   "metadata": {},
   "outputs": [],
   "source": []
  },
  {
   "cell_type": "code",
   "execution_count": null,
   "metadata": {},
   "outputs": [],
   "source": [
    "\n",
    "pip install pyspark"
   ]
  },
  {
   "cell_type": "code",
   "execution_count": null,
   "metadata": {},
   "outputs": [],
   "source": []
  }
 ],
 "metadata": {
  "kernelspec": {
   "display_name": "Python 3",
   "language": "python",
   "name": "python3"
  },
  "language_info": {
   "codemirror_mode": {
    "name": "ipython",
    "version": 3
   },
   "file_extension": ".py",
   "mimetype": "text/x-python",
   "name": "python",
   "nbconvert_exporter": "python",
   "pygments_lexer": "ipython3",
   "version": "3.10.5"
  },
  "orig_nbformat": 4,
  "vscode": {
   "interpreter": {
    "hash": "26de051ba29f2982a8de78e945f0abaf191376122a1563185a90213a26c5da77"
   }
  }
 },
 "nbformat": 4,
 "nbformat_minor": 2
}
