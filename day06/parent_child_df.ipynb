{
 "cells": [
  {
   "cell_type": "code",
   "execution_count": 1,
   "metadata": {},
   "outputs": [
    {
     "name": "stdout",
     "output_type": "stream",
     "text": [
      "  product_name  zipcode     city  name  sales\n",
      "0      Desktop    20190   Reston  Mary   5000\n",
      "1       Laptop    20170  Herndon   Tom   3000\n",
      "2      Servers    22043           Kate   2000\n"
     ]
    }
   ],
   "source": [
    "import pandas as pd\n",
    "import json\n",
    "from pandas import json_normalize\n",
    "\n",
    "# Nested JSON data\n",
    "json_data = {\n",
    "    \"product_name\": [\"Desktop\", \"Laptop\", \"Servers\"],\n",
    "    \"zipcode\": [20190, 20170, 22043],\n",
    "    \"city\": [\"Reston\", \"Herndon\", \"MCLean\"],\n",
    "    \"dealer\": [\n",
    "        {\"name\": \"Mary\", \"sales\": 5000},\n",
    "        {\"name\": \"Tom\", \"sales\": 3000},\n",
    "        {\"name\": \"Kate\", \"sales\": 2000}\n",
    "    ]\n",
    "}\n",
    "\n",
    "# Convert dictionary to JSON string\n",
    "json_string = json.dumps(json_data)\n",
    "\n",
    "# Convert nested JSON data to Pandas DataFrame\n",
    "df = pd.read_json(json_string, orient='columns')\n",
    "\n",
    "# Normalize the 'dealer' column\n",
    "dealer_df = json_normalize(df['dealer'])\n",
    "\n",
    "# Concatenate the normalized 'dealer' DataFrame with the original DataFrame\n",
    "df = pd.concat([df, dealer_df], axis=1)\n",
    "\n",
    "# Drop the original 'children' column\n",
    "df = df.drop('dealer', axis=1)\n",
    "\n",
    "# Print DataFrame\n",
    "print(df)"
   ]
  }
 ],
 "metadata": {
  "kernelspec": {
   "display_name": "base",
   "language": "python",
   "name": "python3"
  },
  "language_info": {
   "codemirror_mode": {
    "name": "ipython",
    "version": 3
   },
   "file_extension": ".py",
   "mimetype": "text/x-python",
   "name": "python",
   "nbconvert_exporter": "python",
   "pygments_lexer": "ipython3",
   "version": "3.9.7"
  }
 },
 "nbformat": 4,
 "nbformat_minor": 2
}
